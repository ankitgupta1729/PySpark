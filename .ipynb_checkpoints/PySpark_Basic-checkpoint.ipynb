{
 "cells": [
  {
   "cell_type": "code",
   "execution_count": null,
   "id": "ecf0429b-1372-47ea-8869-db10ebc57d4f",
   "metadata": {},
   "outputs": [],
   "source": [
    "#IN ubuntu terminal run the following commands\n"
   ]
  },
  {
   "cell_type": "code",
   "execution_count": null,
   "id": "e63f24f2-8db4-4f7c-a9e5-640be2dda04c",
   "metadata": {},
   "outputs": [],
   "source": [
    " # 1835  java --version\n",
    " # 1836  update-alternatives --config java\n",
    " # 1837  sudo update-alternatives --config java\n",
    " # 1838  wget -q http://apachemirror.wuchna.com/spark/spark-2.4.4/spark-2.4.4-bin-hadoop2.7.tgz\n",
    " # 1839  wget https://archive.apache.org/dist/spark/spark-2.4.0/spark-2.4.0-bin-hadoop2.7.tgz\n",
    " # 1840  tar xf spark-2.4.0-bin-hadoop2.7.tgz \n",
    " # 1841  pip install -q findspark\n",
    " # 1842  cd .\n",
    " # 1843  ls\n",
    " # 1844  cd /\n",
    " # 1845  ls\n",
    " # 1846  cd usr\n",
    " # 1847  cd lib/jvm/\n",
    " # 1848  ls"
   ]
  }
 ],
 "metadata": {
  "kernelspec": {
   "display_name": "Python 3 (ipykernel)",
   "language": "python",
   "name": "python3"
  },
  "language_info": {
   "codemirror_mode": {
    "name": "ipython",
    "version": 3
   },
   "file_extension": ".py",
   "mimetype": "text/x-python",
   "name": "python",
   "nbconvert_exporter": "python",
   "pygments_lexer": "ipython3",
   "version": "3.11.7"
  }
 },
 "nbformat": 4,
 "nbformat_minor": 5
}
